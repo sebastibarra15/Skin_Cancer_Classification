{
  "nbformat": 4,
  "nbformat_minor": 0,
  "metadata": {
    "colab": {
      "provenance": []
    },
    "kernelspec": {
      "name": "python3",
      "display_name": "Python 3"
    },
    "language_info": {
      "name": "python"
    }
  },
  "cells": [
    {
      "cell_type": "code",
      "source": [
        "from google.colab import drive\n",
        "drive.mount('/content/drive')"
      ],
      "metadata": {
        "colab": {
          "base_uri": "https://localhost:8080/"
        },
        "id": "wRhEl61v1IcY",
        "outputId": "791e9920-2b91-4208-f49c-13475c01651c"
      },
      "execution_count": null,
      "outputs": [
        {
          "output_type": "stream",
          "name": "stdout",
          "text": [
            "Mounted at /content/drive\n"
          ]
        }
      ]
    },
    {
      "cell_type": "code",
      "execution_count": null,
      "metadata": {
        "colab": {
          "base_uri": "https://localhost:8080/"
        },
        "id": "BCJ4C3lf0w3g",
        "outputId": "0136b594-2ea5-4a41-d34b-cca26c71210b"
      },
      "outputs": [
        {
          "output_type": "stream",
          "name": "stderr",
          "text": [
            "Extracting Features: 100%|██████████| 5102/5102 [1:10:46<00:00,  1.20image/s]\n",
            "Extracting Features: 100%|██████████| 1270/1270 [37:03<00:00,  1.75s/image]\n"
          ]
        },
        {
          "output_type": "stream",
          "name": "stdout",
          "text": [
            "\n",
            "XGBoost Results\n",
            "Accuracy: 0.7386\n",
            "Kappa: 0.5085\n",
            "\n",
            "Classification Report:\n",
            "              precision    recall  f1-score   support\n",
            "\n",
            "         SCC       0.82      0.15      0.25        94\n",
            "    Melanoma       0.77      0.82      0.79       678\n",
            "         BCC       0.69      0.74      0.72       498\n",
            "\n",
            "    accuracy                           0.74      1270\n",
            "   macro avg       0.76      0.57      0.59      1270\n",
            "weighted avg       0.74      0.74      0.72      1270\n",
            "\n",
            "\n",
            "Confusion Matrix:\n",
            "[[ 14  38  42]\n",
            " [  2 554 122]\n",
            " [  1 127 370]]\n"
          ]
        }
      ],
      "source": [
        "import os\n",
        "import random\n",
        "import cv2\n",
        "import numpy as np\n",
        "import pandas as pd\n",
        "from sklearn.model_selection import train_test_split\n",
        "from sklearn.preprocessing import StandardScaler\n",
        "from xgboost import XGBClassifier\n",
        "from sklearn.metrics import accuracy_score, classification_report, confusion_matrix, cohen_kappa_score\n",
        "from skimage.feature import graycomatrix, graycoprops\n",
        "from scipy.stats import entropy as calculate_entropy\n",
        "from tqdm import tqdm\n",
        "\n",
        "# Directories for SCC, Melanoma, and BCC images for both training and validation sets\n",
        "train_scc_dir = \"/content/drive/Shareddrives/CAD/CADx First Project/Second Challenge/Data/Training/train/scc\"\n",
        "train_mel_dir = \"/content/drive/Shareddrives/CAD/CADx First Project/Second Challenge/Data/Training/train/mel\"\n",
        "train_bcc_dir = \"/content/drive/Shareddrives/CAD/CADx First Project/Second Challenge/Data/Training/train/bcc\"\n",
        "val_scc_dir = \"/content/drive/Shareddrives/CAD/CADx First Project/Second Challenge/Data/Validation/scc\"\n",
        "val_mel_dir = \"/content/drive/Shareddrives/CAD/CADx First Project/Second Challenge/Data/Validation/mel\"\n",
        "val_bcc_dir = \"/content/drive/Shareddrives/CAD/CADx First Project/Second Challenge/Data/Validation/bcc\"\n",
        "\n",
        "# Simplified Feature Extraction Function\n",
        "def extract_features(image):\n",
        "    features = {}\n",
        "\n",
        "    # Resize image\n",
        "    image = cv2.resize(image, (128, 128))\n",
        "\n",
        "    # Color Features - Mean and Standard Deviation in RGB channels\n",
        "    if len(image.shape) == 3:  # color image\n",
        "        features['r_mean'] = np.mean(image[:, :, 0])\n",
        "        features['g_mean'] = np.mean(image[:, :, 1])\n",
        "        features['b_mean'] = np.mean(image[:, :, 2])\n",
        "        features['r_std'] = np.std(image[:, :, 0])\n",
        "        features['g_std'] = np.std(image[:, :, 1])\n",
        "        features['b_std'] = np.std(image[:, :, 2])\n",
        "    else:  # grayscale image\n",
        "        features['grayscale_mean'] = np.mean(image)\n",
        "        features['grayscale_std'] = np.std(image)\n",
        "\n",
        "    # Grayscale conversion for texture features\n",
        "    grayscale_image = cv2.cvtColor(image, cv2.COLOR_BGR2GRAY)\n",
        "\n",
        "    # Simple Texture Features - Mean and Standard Deviation\n",
        "    features['texture_mean'] = np.mean(grayscale_image)\n",
        "    features['texture_std'] = np.std(grayscale_image)\n",
        "\n",
        "    # Entropy\n",
        "    hist = cv2.calcHist([grayscale_image], [0], None, [256], [0, 256]).flatten()\n",
        "    features['entropy'] = calculate_entropy(hist)\n",
        "\n",
        "    return features\n",
        "\n",
        "# Function to load and label images from a directory\n",
        "def load_images_with_labels(directories, label):\n",
        "    images = []\n",
        "    for directory in directories:\n",
        "        images.extend([(os.path.join(directory, f), label) for f in os.listdir(directory) if f.endswith('.jpg')])\n",
        "    return images\n",
        "\n",
        "# Combine and shuffle all images from training set\n",
        "train_images = (\n",
        "    load_images_with_labels([train_scc_dir], 'SCC') +\n",
        "    load_images_with_labels([train_mel_dir], 'Melanoma') +\n",
        "    load_images_with_labels([train_bcc_dir], 'BCC')\n",
        ")\n",
        "random.shuffle(train_images)\n",
        "\n",
        "# Combine all images from validation set (kept separate for evaluation)\n",
        "val_images = (\n",
        "    load_images_with_labels([val_scc_dir], 'SCC') +\n",
        "    load_images_with_labels([val_mel_dir], 'Melanoma') +\n",
        "    load_images_with_labels([val_bcc_dir], 'BCC')\n",
        ")\n",
        "\n",
        "# Feature extraction with progress tracking for both training and validation sets\n",
        "def generate_features_dataframe(image_paths_labels):\n",
        "    features_list = []\n",
        "    with tqdm(total=len(image_paths_labels), desc=\"Extracting Features\", unit=\"image\") as pbar:\n",
        "        for image_path, label in image_paths_labels:\n",
        "            image = cv2.imread(image_path)\n",
        "            if image is not None:\n",
        "                features = extract_features(image)\n",
        "                features['label'] = label\n",
        "                features_list.append(features)\n",
        "            pbar.update(1)  # Update progress bar by 1 step after processing each image\n",
        "    return pd.DataFrame(features_list)\n",
        "\n",
        "# Generate features for training and validation sets\n",
        "train_df = generate_features_dataframe(train_images)\n",
        "val_df = generate_features_dataframe(val_images)\n",
        "\n",
        "# Encode labels for classification\n",
        "label_map = {'SCC': 0, 'Melanoma': 1, 'BCC': 2}\n",
        "train_df['label'] = train_df['label'].map(label_map)\n",
        "val_df['label'] = val_df['label'].map(label_map)\n",
        "\n",
        "# Split features and labels\n",
        "X_train = train_df.drop('label', axis=1)\n",
        "y_train = train_df['label']\n",
        "X_val = val_df.drop('label', axis=1)\n",
        "y_val = val_df['label']\n",
        "\n",
        "# Standardize features\n",
        "scaler = StandardScaler()\n",
        "X_train_scaled = scaler.fit_transform(X_train)\n",
        "X_val_scaled = scaler.transform(X_val)\n",
        "\n",
        "# Train XGBoost model with basic parameters\n",
        "xgb = XGBClassifier(objective='multi:softmax', num_class=3, random_state=42, eval_metric='mlogloss')\n",
        "xgb.fit(X_train_scaled, y_train)\n",
        "\n",
        "# Predict on validation set\n",
        "y_pred = xgb.predict(X_val_scaled)\n",
        "\n",
        "# Evaluate the model\n",
        "accuracy = accuracy_score(y_val, y_pred)\n",
        "kappa = cohen_kappa_score(y_val, y_pred)\n",
        "\n",
        "print(\"\\nXGBoost Results\")\n",
        "print(f\"Accuracy: {accuracy:.4f}\")\n",
        "print(f\"Kappa: {kappa:.4f}\")\n",
        "print(\"\\nClassification Report:\")\n",
        "print(classification_report(y_val, y_pred, target_names=[\"SCC\", \"Melanoma\", \"BCC\"]))\n",
        "print(\"\\nConfusion Matrix:\")\n",
        "print(confusion_matrix(y_val, y_pred))\n",
        "\n"
      ]
    },
    {
      "cell_type": "code",
      "source": [
        "import matplotlib.pyplot as plt\n",
        "from sklearn.metrics import roc_curve, auc\n",
        "from sklearn.preprocessing import label_binarize\n",
        "\n",
        "# Binarize the labels for multi-class ROC calculation\n",
        "y_val_bin = label_binarize(y_val, classes=[0, 1, 2])\n",
        "\n",
        "# Get the number of classes\n",
        "n_classes = y_val_bin.shape[1]\n",
        "\n",
        "# Initialize variables to store results\n",
        "fpr = dict()\n",
        "tpr = dict()\n",
        "roc_auc = dict()\n",
        "\n",
        "# Calculate ROC curve and AUC for each class\n",
        "class_names = [\"Melanoma\", \"BCC\", \"SCC\"]\n",
        "for i in range(n_classes):\n",
        "    fpr[i], tpr[i], _ = roc_curve(y_val_bin[:, i], xgb.predict_proba(X_val_scaled)[:, i])\n",
        "    roc_auc[i] = auc(fpr[i], tpr[i])\n",
        "\n",
        "# Plot each class's ROC curve\n",
        "plt.figure()\n",
        "colors = ['blue', 'red', 'green']\n",
        "for i, color in zip(range(n_classes), colors):\n",
        "    plt.plot(fpr[i], tpr[i], color=color, lw=2, label=f'{class_names[i]} (AUC = {roc_auc[i]:.2f})')\n",
        "\n",
        "# Plot the diagonal line representing random chance\n",
        "plt.plot([0, 1], [0, 1], 'k--', lw=2)\n",
        "plt.xlim([0.0, 1.0])\n",
        "plt.ylim([0.0, 1.05])\n",
        "plt.xlabel('False Positive Rate')\n",
        "plt.ylabel('True Positive Rate')\n",
        "plt.title('ROC Curves for Each Class')\n",
        "plt.legend(loc=\"lower right\")\n",
        "plt.show()\n"
      ],
      "metadata": {
        "colab": {
          "base_uri": "https://localhost:8080/",
          "height": 472
        },
        "id": "_8SqXeAi0c7-",
        "outputId": "49892133-ced9-43b1-b1dd-71861a43f9db"
      },
      "execution_count": null,
      "outputs": [
        {
          "output_type": "display_data",
          "data": {
            "text/plain": [
              "<Figure size 640x480 with 1 Axes>"
            ],
            "image/png": "[encoded data removed]"
          },
          "metadata": {}
        }
      ]
    },
    {
      "cell_type": "markdown",
      "source": [
        "# TESTING"
      ],
      "metadata": {
        "id": "B4bDLpnNOjFX"
      }
    },
    {
      "cell_type": "code",
      "source": [
        "import os\n",
        "import cv2\n",
        "import numpy as np\n",
        "import pandas as pd\n",
        "from tqdm import tqdm\n",
        "\n",
        "# Directory for test images\n",
        "test_dir = \"/content/drive/Shareddrives/CAD/CADx First Project/Second Challenge/Data/Test/testX\"\n",
        "\n",
        "# Function to load test images in the correct order based on file numbering\n",
        "def load_ordered_test_images(directory):\n",
        "    image_paths = [os.path.join(directory, f) for f in sorted(os.listdir(directory)) if f.endswith('.jpg')]\n",
        "    return image_paths\n",
        "\n",
        "# Load test image paths\n",
        "test_images = load_ordered_test_images(test_dir)\n",
        "\n",
        "# Feature extraction function used on the test set (ensure it matches the training process)\n",
        "def extract_features(image):\n",
        "    features = {}\n",
        "    # Resize to standardize\n",
        "    image = cv2.resize(image, (128, 128))\n",
        "\n",
        "    # Extract mean and std for each RGB channel\n",
        "    if len(image.shape) == 3:\n",
        "        features['r_mean'] = np.mean(image[:, :, 0])\n",
        "        features['g_mean'] = np.mean(image[:, :, 1])\n",
        "        features['b_mean'] = np.mean(image[:, :, 2])\n",
        "        features['r_std'] = np.std(image[:, :, 0])\n",
        "        features['g_std'] = np.std(image[:, :, 1])\n",
        "        features['b_std'] = np.std(image[:, :, 2])\n",
        "    else:\n",
        "        features['grayscale_mean'] = np.mean(image)\n",
        "        features['grayscale_std'] = np.std(image)\n",
        "\n",
        "    # Texture mean and std (single statistic as simplified)\n",
        "    grayscale_image = cv2.cvtColor(image, cv2.COLOR_BGR2GRAY)\n",
        "    features['texture_mean'] = np.mean(grayscale_image)\n",
        "    features['texture_std'] = np.std(grayscale_image)\n",
        "\n",
        "    # Entropy calculation\n",
        "    hist = cv2.calcHist([grayscale_image], [0], None, [256], [0, 256]).flatten()\n",
        "    features['entropy'] = -np.sum(hist * np.log2(hist + 1e-10))  # Add small epsilon to avoid log(0)\n",
        "\n",
        "    return features\n",
        "\n",
        "# Generate features for test set\n",
        "def generate_test_features(image_paths):\n",
        "    features_list = []\n",
        "    for image_path in tqdm(image_paths, desc=\"Extracting Test Features\"):\n",
        "        image = cv2.imread(image_path)\n",
        "        if image is not None:\n",
        "            features = extract_features(image)\n",
        "            features_list.append(features)\n",
        "    return pd.DataFrame(features_list)\n",
        "\n",
        "# Extract test features\n",
        "X_test = generate_test_features(test_images)\n",
        "\n",
        "# Standardize the test set based on the training scaler\n",
        "X_test_scaled = scaler.transform(X_test)\n",
        "\n",
        "# Predict on the test set\n",
        "y_test_pred = xgb.predict(X_test_scaled)\n",
        "\n",
        "# Prepare results for CSV output\n",
        "image_names = [os.path.basename(path) for path in test_images]\n",
        "output_df = pd.DataFrame({\"Image Name\": image_names, \"Classification Result\": y_test_pred})\n",
        "output_df['Classification Result'] = output_df['Classification Result'].map({0: 0, 1: 1, 2: 2})  # 0=Mel, 1=BCC, 2=SCC\n",
        "\n",
        "# Save predictions to CSV\n",
        "output_df.to_csv(\"classification_results.csv\", index=False, header=False)\n",
        "print(\"Predictions saved to 'classification_results.csv'\")\n"
      ],
      "metadata": {
        "colab": {
          "base_uri": "https://localhost:8080/"
        },
        "id": "7DN9nQLzOiP4",
        "outputId": "b90beb50-6d07-4e1a-b8fc-441198f0282b"
      },
      "execution_count": null,
      "outputs": [
        {
          "output_type": "stream",
          "name": "stderr",
          "text": [
            "Extracting Test Features: 100%|██████████| 2126/2126 [01:26<00:00, 24.65it/s]"
          ]
        },
        {
          "output_type": "stream",
          "name": "stdout",
          "text": [
            "Predictions saved to 'classification_results.csv'\n"
          ]
        },
        {
          "output_type": "stream",
          "name": "stderr",
          "text": [
            "\n"
          ]
        }
      ]
    }
  ]
}